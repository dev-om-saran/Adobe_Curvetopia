{
 "cells": [
  {
   "cell_type": "code",
   "execution_count": 1,
   "id": "bd31bdc2",
   "metadata": {},
   "outputs": [],
   "source": [
    "import os\n",
    "import pandas as pd\n",
    "import numpy as np"
   ]
  },
  {
   "cell_type": "code",
   "execution_count": 2,
   "id": "30ea9a40",
   "metadata": {},
   "outputs": [],
   "source": [
    "# Directory structure\n",
    "base_dir = r\"D:\\Om Saran\\ML\\adobe\\dataset\\closed\"\n",
    "categories = ['circle', 'rectangle', 'irregular', 'star','rounded_rec', 'ellipse']  # Add all folder names"
   ]
  },
  {
   "cell_type": "code",
   "execution_count": 3,
   "id": "a8f951e7",
   "metadata": {},
   "outputs": [],
   "source": [
    "# Data storage\n",
    "data = []\n",
    "labels = []\n",
    "\n",
    "# Load data\n",
    "for category in categories:\n",
    "    folder_path = os.path.join(base_dir, category)\n",
    "    for file_name in os.listdir(folder_path):\n",
    "        file_path = os.path.join(folder_path, file_name)\n",
    "        if file_path.endswith('.csv'):\n",
    "            # Read CSV file\n",
    "            points = pd.read_csv(file_path)\n",
    "            data.append(points.values)  # Store points as numpy array or DataFrame\n",
    "            labels.append(category)  # Store the label"
   ]
  },
  {
   "cell_type": "code",
   "execution_count": 4,
   "id": "f385998c",
   "metadata": {},
   "outputs": [
    {
     "data": {
      "text/plain": [
       "array([[530.83688354, 386.50518799],\n",
       "       [529.09716797, 386.38467407],\n",
       "       [527.35690308, 386.27212524],\n",
       "       [525.6159668 , 386.17050171],\n",
       "       [523.87417603, 386.08456421],\n",
       "       [522.13162231, 386.01647949],\n",
       "       [520.3883667 , 385.9692688 ],\n",
       "       [518.6446228 , 385.94714355],\n",
       "       [516.90078735, 385.95223999],\n",
       "       [515.1572876 , 385.98840332],\n",
       "       [513.41485596, 386.05947876],\n",
       "       [511.67443848, 386.16903687],\n",
       "       [509.93722534, 386.32113647],\n",
       "       [508.20471191, 386.51953125],\n",
       "       [506.47875977, 386.76849365],\n",
       "       [504.76168823, 387.07275391],\n",
       "       [503.0562439 , 387.43643188],\n",
       "       [501.3656311 , 387.86376953],\n",
       "       [499.69393921, 388.3598938 ],\n",
       "       [498.04534912, 388.92810059],\n",
       "       [496.42507935, 389.57247925],\n",
       "       [494.83862305, 390.29611206],\n",
       "       [493.29171753, 391.10079956],\n",
       "       [491.79095459, 391.98852539],\n",
       "       [490.34179688, 392.95822144],\n",
       "       [488.89157104, 393.92611694],\n",
       "       [487.38150024, 394.79785156],\n",
       "       [485.82907104, 395.59207153],\n",
       "       [484.26461792, 396.36254883],\n",
       "       [482.73428345, 397.19784546],\n",
       "       [481.30575562, 398.19561768],\n",
       "       [480.04660034, 399.39941406],\n",
       "       [478.98202515, 400.77893066],\n",
       "       [478.09054565, 402.27682495],\n",
       "       [477.35592651, 403.85736084],\n",
       "       [476.79025269, 405.50631714],\n",
       "       [476.35235596, 407.19400024],\n",
       "       [476.00939941, 408.90368652],\n",
       "       [475.73770142, 410.62619019],\n",
       "       [475.51889038, 412.35626221],\n",
       "       [475.33834839, 414.09075928],\n",
       "       [475.18463135, 415.82785034],\n",
       "       [475.0456543 , 417.56619263],\n",
       "       [474.91177368, 419.30496216],\n",
       "       [474.77215576, 421.04327393],\n",
       "       [474.61334229, 422.77990723],\n",
       "       [474.41876221, 424.5128479 ],\n",
       "       [474.16513062, 426.23803711],\n",
       "       [473.81381226, 427.94580078],\n",
       "       [473.29714966, 429.6100769 ],\n",
       "       [472.64004517, 431.22314453],\n",
       "       [472.28997803, 432.92993164],\n",
       "       [472.12350464, 434.66540527],\n",
       "       [472.06335449, 436.40808105],\n",
       "       [472.0748291 , 438.15185547],\n",
       "       [472.1390686 , 439.89453125],\n",
       "       [472.24493408, 441.63516235],\n",
       "       [472.38531494, 443.37338257],\n",
       "       [472.55609131, 445.10888672],\n",
       "       [472.75445557, 446.84143066],\n",
       "       [472.98205566, 448.57040405],\n",
       "       [473.42279053, 450.25323486],\n",
       "       [474.15673828, 451.83416748],\n",
       "       [474.94830322, 453.38793945],\n",
       "       [475.5614624 , 455.0177002 ],\n",
       "       [475.85287476, 456.7361145 ],\n",
       "       [476.13247681, 458.4574585 ],\n",
       "       [476.44223022, 460.17358398],\n",
       "       [476.7833252 , 461.88378906],\n",
       "       [477.15576172, 463.58743286],\n",
       "       [477.56005859, 465.28378296],\n",
       "       [477.99697876, 466.97201538],\n",
       "       [478.46694946, 468.65139771],\n",
       "       [478.97024536, 470.32104492],\n",
       "       [479.50738525, 471.98013306],\n",
       "       [480.07873535, 473.62774658],\n",
       "       [480.68463135, 475.26293945],\n",
       "       [481.32543945, 476.88482666],\n",
       "       [482.00134277, 478.49237061],\n",
       "       [482.712677  , 480.08456421],\n",
       "       [483.45944214, 481.66043091],\n",
       "       [484.24185181, 483.21890259],\n",
       "       [485.05990601, 484.75900269],\n",
       "       [485.9135437 , 486.27963257],\n",
       "       [486.80267334, 487.77978516],\n",
       "       [487.72720337, 489.25842285],\n",
       "       [488.6867981 , 490.71450806],\n",
       "       [489.681427  , 492.14691162],\n",
       "       [490.71047974, 493.55477905],\n",
       "       [491.77346802, 494.93719482],\n",
       "       [492.87002563, 496.29315186],\n",
       "       [493.99945068, 497.62182617],\n",
       "       [495.16125488, 498.92230225],\n",
       "       [496.35473633, 500.19378662],\n",
       "       [497.57894897, 501.43569946],\n",
       "       [498.8331604 , 502.64727783],\n",
       "       [500.11651611, 503.82800293],\n",
       "       [501.42807007, 504.97729492],\n",
       "       [502.76708984, 506.0944519 ],\n",
       "       [504.13235474, 507.17938232],\n",
       "       [505.52297974, 508.2315979 ],\n",
       "       [506.93792725, 509.25094604],\n",
       "       [508.37612915, 510.2371521 ],\n",
       "       [509.83657837, 511.19012451],\n",
       "       [511.31826782, 512.10971069],\n",
       "       [512.82009888, 512.99603271],\n",
       "       [514.34106445, 513.84906006],\n",
       "       [515.88018799, 514.66894531],\n",
       "       [517.43643188, 515.45578003],\n",
       "       [519.00881958, 516.2098999 ],\n",
       "       [520.59640503, 516.93148804],\n",
       "       [522.19830322, 517.6206665 ],\n",
       "       [523.81356812, 518.27792358],\n",
       "       [525.4413147 , 518.90368652],\n",
       "       [527.08062744, 519.4984436 ],\n",
       "       [528.73092651, 520.06207275],\n",
       "       [530.39096069, 520.59631348],\n",
       "       [532.01330566, 521.23330688],\n",
       "       [533.57659912, 522.00561523],\n",
       "       [535.11444092, 522.82794189],\n",
       "       [536.66491699, 523.62591553],\n",
       "       [538.27044678, 524.30413818],\n",
       "       [539.93084717, 524.8369751 ],\n",
       "       [541.6048584 , 525.32568359],\n",
       "       [543.29052734, 525.7723999 ],\n",
       "       [544.98596191, 526.18026733],\n",
       "       [546.68994141, 526.5512085 ],\n",
       "       [548.40118408, 526.88690186],\n",
       "       [550.11859131, 527.18963623],\n",
       "       [551.84136963, 527.46020508],\n",
       "       [553.56854248, 527.70098877],\n",
       "       [555.29956055, 527.91226196],\n",
       "       [557.03375244, 528.09619141],\n",
       "       [558.77056885, 528.25280762],\n",
       "       [560.50952148, 528.3840332 ],\n",
       "       [562.25018311, 528.48968506],\n",
       "       [563.99212646, 528.57125854],\n",
       "       [565.73510742, 528.62884521],\n",
       "       [567.4786377 , 528.66311646],\n",
       "       [569.22253418, 528.67459106],\n",
       "       [570.96624756, 528.65441895],\n",
       "       [572.70928955, 528.59991455],\n",
       "       [574.4510498 , 528.51489258],\n",
       "       [576.19128418, 528.40161133],\n",
       "       [577.92950439, 528.26153564],\n",
       "       [579.66546631, 528.09539795],\n",
       "       [581.39874268, 527.90328979],\n",
       "       [583.12884521, 527.68460083],\n",
       "       [584.85522461, 527.43798828],\n",
       "       [586.57733154, 527.16329956],\n",
       "       [588.29418945, 526.85760498],\n",
       "       [590.00506592, 526.52011108],\n",
       "       [591.70855713, 526.14709473],\n",
       "       [593.40325928, 525.73577881],\n",
       "       [595.0869751 , 525.28186035],\n",
       "       [596.75726318, 524.78085327],\n",
       "       [598.41052246, 524.22631836],\n",
       "       [600.04217529, 523.61105347],\n",
       "       [601.6451416 , 522.92471313],\n",
       "       [603.21008301, 522.15570068],\n",
       "       [604.72216797, 521.28775024],\n",
       "       [606.16033936, 520.30239868],\n",
       "       [607.52655029, 519.21871948],\n",
       "       [608.88751221, 518.12826538],\n",
       "       [610.24121094, 517.02896118],\n",
       "       [611.58111572, 515.91278076],\n",
       "       [612.90289307, 514.77520752],\n",
       "       [614.20056152, 513.61029053],\n",
       "       [615.4666748 , 512.41116333],\n",
       "       [616.69171143, 511.17022705],\n",
       "       [617.86199951, 509.87750244],\n",
       "       [618.95770264, 508.52120972],\n",
       "       [619.94567871, 507.08493042],\n",
       "       [620.77520752, 505.55215454],\n",
       "       [621.4876709 , 503.96054077],\n",
       "       [622.15002441, 502.34741211],\n",
       "       [622.78125   , 500.72177124],\n",
       "       [623.3885498 , 499.08706665],\n",
       "       [623.97705078, 497.44546509],\n",
       "       [624.54943848, 495.79815674],\n",
       "       [625.1071167 , 494.14584351],\n",
       "       [625.65100098, 492.48895264],\n",
       "       [626.18255615, 490.82803345],\n",
       "       [626.7020874 , 489.16333008],\n",
       "       [627.2088623 , 487.49472046],\n",
       "       [627.70446777, 485.82272339],\n",
       "       [628.18737793, 484.14700317],\n",
       "       [628.65838623, 482.46792603],\n",
       "       [629.11657715, 480.78527832],\n",
       "       [629.56158447, 479.09912109],\n",
       "       [629.99291992, 477.40945435],\n",
       "       [630.40911865, 475.71591187],\n",
       "       [630.8104248 , 474.01882935],\n",
       "       [631.19451904, 472.31777954],\n",
       "       [631.55975342, 470.61257935],\n",
       "       [631.90447998, 468.90307617],\n",
       "       [632.22650146, 467.18920898],\n",
       "       [632.52288818, 465.47067261],\n",
       "       [632.78894043, 463.7472229 ],\n",
       "       [633.02087402, 462.01889038],\n",
       "       [633.21044922, 460.28533936],\n",
       "       [633.34912109, 458.54708862],\n",
       "       [633.42315674, 456.80490112],\n",
       "       [633.41009521, 455.0612793 ],\n",
       "       [633.27459717, 453.32318115],\n",
       "       [632.95080566, 451.61108398],\n",
       "       [632.31854248, 449.98965454],\n",
       "       [631.67895508, 448.36810303],\n",
       "       [631.1529541 , 446.70553589],\n",
       "       [630.67657471, 445.02798462],\n",
       "       [630.21228027, 443.34707642],\n",
       "       [629.72930908, 441.67141724],\n",
       "       [629.19744873, 440.01077271],\n",
       "       [628.57684326, 438.38137817],\n",
       "       [627.80993652, 436.8163147 ],\n",
       "       [626.81530762, 435.38650513],\n",
       "       [625.81079102, 433.96157837],\n",
       "       [624.90661621, 432.47067261],\n",
       "       [624.0803833 , 430.93508911],\n",
       "       [623.30834961, 429.37145996],\n",
       "       [622.56854248, 427.79229736],\n",
       "       [621.83752441, 426.20898438],\n",
       "       [621.09735107, 424.62997437],\n",
       "       [620.32720947, 423.06539917],\n",
       "       [619.5078125 , 421.52615356],\n",
       "       [618.62451172, 420.02264404],\n",
       "       [617.70983887, 418.5378418 ],\n",
       "       [616.77307129, 417.06695557],\n",
       "       [615.81219482, 415.61166382],\n",
       "       [614.82537842, 414.17385864],\n",
       "       [613.81054688, 412.75567627],\n",
       "       [612.76556396, 411.35964966],\n",
       "       [611.68920898, 409.98760986],\n",
       "       [610.5802002 , 408.6418457 ],\n",
       "       [609.43676758, 407.32516479],\n",
       "       [608.25848389, 406.03964233],\n",
       "       [607.04382324, 404.78845215],\n",
       "       [605.79370117, 403.57263184],\n",
       "       [604.50720215, 402.39535522],\n",
       "       [603.18518066, 401.25820923],\n",
       "       [601.82806396, 400.16317749],\n",
       "       [600.43707275, 399.11148071],\n",
       "       [599.0135498 , 398.10424805],\n",
       "       [597.55889893, 397.14248657],\n",
       "       [596.07501221, 396.22650146],\n",
       "       [594.56134033, 395.36071777],\n",
       "       [593.00030518, 394.58407593],\n",
       "       [591.39471436, 393.90408325],\n",
       "       [589.7532959 , 393.31567383],\n",
       "       [588.08410645, 392.8114624 ],\n",
       "       [586.39404297, 392.38195801],\n",
       "       [584.68890381, 392.01672363],\n",
       "       [582.97332764, 391.70394897],\n",
       "       [581.25079346, 391.43218994],\n",
       "       [579.52368164, 391.19061279],\n",
       "       [577.79425049, 390.96633911],\n",
       "       [576.06414795, 390.74771118],\n",
       "       [574.33459473, 390.52441406],\n",
       "       [572.60736084, 390.28414917],\n",
       "       [570.88439941, 390.01507568],\n",
       "       [569.16815186, 389.70587158],\n",
       "       [567.46221924, 389.34448242],\n",
       "       [565.77105713, 388.91921997],\n",
       "       [564.09814453, 388.42718506],\n",
       "       [562.43029785, 387.91760254],\n",
       "       [560.76397705, 387.40335083],\n",
       "       [559.09753418, 386.88949585],\n",
       "       [557.43017578, 386.37838745],\n",
       "       [555.76080322, 385.8739624 ],\n",
       "       [554.08911133, 385.37747192],\n",
       "       [552.41400146, 384.89239502],\n",
       "       [550.73510742, 384.42077637],\n",
       "       [549.05200195, 383.9644165 ],\n",
       "       [547.36407471, 383.52600098],\n",
       "       [545.67102051, 383.10806274],\n",
       "       [543.97265625, 382.71243286],\n",
       "       [542.26867676, 382.3416748 ],\n",
       "       [540.55859375, 381.99963379],\n",
       "       [538.8427124 , 381.6885376 ],\n",
       "       [537.12084961, 381.41253662],\n",
       "       [535.39324951, 381.17498779],\n",
       "       [533.66027832, 380.98007202],\n",
       "       [531.92263794, 380.83340454],\n",
       "       [530.18136597, 380.73980713],\n",
       "       [528.43789673, 380.70553589],\n",
       "       [526.69442749, 380.7376709 ],\n",
       "       [524.95394897, 380.84405518],\n",
       "       [523.22055054, 381.0333252 ],\n",
       "       [521.49969482, 381.31442261],\n",
       "       [519.79885864, 381.69821167],\n",
       "       [518.13061523, 382.20474243],\n",
       "       [516.50427246, 382.83322144],\n",
       "       [514.92260742, 383.56698608],\n",
       "       [513.38244629, 384.38464355],\n",
       "       [511.87670898, 385.26419067],\n",
       "       [510.39364624, 386.18154907],\n",
       "       [508.91674805, 387.10906982],\n",
       "       [507.43014526, 388.02059937],\n",
       "       [505.91378784, 388.88162231],\n",
       "       [504.35040283, 389.65328979]])"
      ]
     },
     "execution_count": 4,
     "metadata": {},
     "output_type": "execute_result"
    }
   ],
   "source": [
    "data[0]"
   ]
  },
  {
   "cell_type": "code",
   "execution_count": 5,
   "id": "5b6e0faf",
   "metadata": {},
   "outputs": [
    {
     "name": "stdout",
     "output_type": "stream",
     "text": [
      "['irregular', 'circle', 'rectangle', 'ellipse', 'star', 'rounded_rec']\n"
     ]
    }
   ],
   "source": [
    "unique_labels = list(set(labels))\n",
    "\n",
    "print(unique_labels)"
   ]
  },
  {
   "cell_type": "code",
   "execution_count": 6,
   "id": "8d31003e",
   "metadata": {},
   "outputs": [],
   "source": [
    "import matplotlib.pyplot as plt"
   ]
  },
  {
   "cell_type": "code",
   "execution_count": 7,
   "id": "d875ae15",
   "metadata": {},
   "outputs": [
    {
     "data": {
      "image/png": "[encoded data removed]",
      "text/plain": [
       "<Figure size 432x288 with 1 Axes>"
      ]
     },
     "metadata": {
      "needs_background": "light"
     },
     "output_type": "display_data"
    }
   ],
   "source": [
    "x_coords, y_coords = zip(*data[0])\n",
    "\n",
    "# Plot the curve\n",
    "plt.plot(x_coords, y_coords, linewidth = 1)  # Use marker='o' to show points\n",
    "plt.title('Curve Plot')\n",
    "plt.xlabel('X-axis')\n",
    "plt.ylabel('Y-axis')\n",
    "plt.gca().set_aspect('equal')\n",
    "plt.grid(True)  # Optional: Add grid for better visualization\n",
    "plt.show()"
   ]
  },
  {
   "cell_type": "code",
   "execution_count": 9,
   "id": "15b858b7",
   "metadata": {},
   "outputs": [],
   "source": [
    "def distances_to_centroid(points):\n",
    "    # Convert to numpy array for easier calculations\n",
    "    points = np.array(points)\n",
    "    \n",
    "    # Calculate centroid\n",
    "    centroid = points.mean(axis=0)\n",
    "    \n",
    "    # Compute distances to centroid\n",
    "    distances = np.sqrt(((points - centroid) ** 2).sum(axis=1))\n",
    "    \n",
    "    return distances"
   ]
  },
  {
   "cell_type": "code",
   "execution_count": 10,
   "id": "ec4f2fb0",
   "metadata": {},
   "outputs": [],
   "source": [
    "def calculate_curvature(points):\n",
    "    points = np.array(points)\n",
    "    num_points = len(points)\n",
    "    \n",
    "    # Calculate angles between segments\n",
    "    curvatures = []\n",
    "    for i in range(1, num_points - 1):\n",
    "        p1 = points[i - 1]\n",
    "        p2 = points[i]\n",
    "        p3 = points[i + 1]\n",
    "        \n",
    "        # Vectors\n",
    "        v1 = p2 - p1\n",
    "        v2 = p3 - p2\n",
    "        \n",
    "        # Angle between vectors\n",
    "        dot_product = np.dot(v1, v2)\n",
    "        norm_v1 = np.linalg.norm(v1)\n",
    "        norm_v2 = np.linalg.norm(v2)\n",
    "         # Prevent division by zero\n",
    "        if norm_v1 == 0 or norm_v2 == 0:\n",
    "            curvatures.append(0.0)\n",
    "            continue\n",
    "        \n",
    "        cos_angle = dot_product / (norm_v1 * norm_v2)\n",
    "        \n",
    "        # Clamp the cosine value to avoid invalid inputs for arccos\n",
    "        cos_angle = np.clip(cos_angle, -1.0, 1.0)\n",
    "        \n",
    "        angle = np.arccos(cos_angle)\n",
    "        curvatures.append(angle)\n",
    "    \n",
    "    curvatures = np.array(curvatures)\n",
    "    padded_curvatures = np.concatenate(([0], curvatures, [0]))\n",
    "    \n",
    "    return padded_curvatures"
   ]
  },
  {
   "cell_type": "code",
   "execution_count": 11,
   "id": "5a1ebff9",
   "metadata": {},
   "outputs": [],
   "source": [
    "max_len = 1000\n",
    "def extract_features(points):\n",
    "    # Calculate curvature vector\n",
    "    curvatures = calculate_curvature(points)\n",
    "    \n",
    "    # Calculate distance vector to centroid\n",
    "    distances = distances_to_centroid(points)\n",
    "    \n",
    "    # Combine features into a single matrix\n",
    "    # Ensure the feature vectors are of the same length\n",
    "    if len(curvatures) != len(distances):\n",
    "        min_len = min(len(curvatures), len(distances))\n",
    "        curvatures = curvatures[:min_len]\n",
    "        distances = distances[:min_len]\n",
    "    \n",
    "    features = np.array([[d, c] for d, c in zip(distances, curvatures)])\n",
    "    \n",
    "    if len(features) < max_len:\n",
    "        # Pad with [-1, -1]\n",
    "        padding_length = max_len - len(features)\n",
    "        features_padded = np.vstack([features, np.full((padding_length, 2), -1)])\n",
    "    else:\n",
    "        # Truncate\n",
    "        features_padded = features[:max_len]\n",
    "    \n",
    "    return features_padded"
   ]
  },
  {
   "cell_type": "code",
   "execution_count": 12,
   "id": "c6c02939",
   "metadata": {},
   "outputs": [
    {
     "data": {
      "text/plain": [
       "'circle'"
      ]
     },
     "execution_count": 12,
     "metadata": {},
     "output_type": "execute_result"
    }
   ],
   "source": [
    "labels[0]"
   ]
  },
  {
   "cell_type": "code",
   "execution_count": 13,
   "id": "9ccb8de5",
   "metadata": {},
   "outputs": [],
   "source": [
    "X = []\n",
    "Y = []\n",
    "\n",
    "for curve, label in zip(data, labels):\n",
    "    features = extract_features(curve)\n",
    "    if features.size > 0:  # Ensure that features are not empty\n",
    "        X.append(features)\n",
    "        Y.append(label)\n",
    "# Convert lists to numpy arrays\n"
   ]
  },
  {
   "cell_type": "code",
   "execution_count": 15,
   "id": "1a66b127",
   "metadata": {},
   "outputs": [],
   "source": [
    "X = np.array(X)\n",
    "Y = np.array(Y)"
   ]
  },
  {
   "cell_type": "code",
   "execution_count": 16,
   "id": "ab1515aa",
   "metadata": {},
   "outputs": [
    {
     "data": {
      "text/plain": [
       "array([[ 6.65879147e+01,  0.00000000e+00],\n",
       "       [ 6.72252079e+01,  4.57826272e-03],\n",
       "       [ 6.78939951e+01,  6.27668995e-03],\n",
       "       ...,\n",
       "       [-1.00000000e+00, -1.00000000e+00],\n",
       "       [-1.00000000e+00, -1.00000000e+00],\n",
       "       [-1.00000000e+00, -1.00000000e+00]])"
      ]
     },
     "execution_count": 16,
     "metadata": {},
     "output_type": "execute_result"
    }
   ],
   "source": [
    "X[0]"
   ]
  },
  {
   "cell_type": "code",
   "execution_count": 17,
   "id": "2b46c1a2",
   "metadata": {},
   "outputs": [
    {
     "data": {
      "text/plain": [
       "(88, 1000, 2)"
      ]
     },
     "execution_count": 17,
     "metadata": {},
     "output_type": "execute_result"
    }
   ],
   "source": [
    "X.shape"
   ]
  },
  {
   "cell_type": "code",
   "execution_count": 18,
   "id": "33ac73ce",
   "metadata": {},
   "outputs": [],
   "source": [
    "X = X.reshape(X.shape[0], -1)"
   ]
  },
  {
   "cell_type": "code",
   "execution_count": 19,
   "id": "ade79de1",
   "metadata": {},
   "outputs": [
    {
     "data": {
      "text/plain": [
       "(88, 2000)"
      ]
     },
     "execution_count": 19,
     "metadata": {},
     "output_type": "execute_result"
    }
   ],
   "source": [
    "X.shape"
   ]
  },
  {
   "cell_type": "code",
   "execution_count": 20,
   "id": "06b80118",
   "metadata": {},
   "outputs": [
    {
     "data": {
      "text/plain": [
       "'circle'"
      ]
     },
     "execution_count": 20,
     "metadata": {},
     "output_type": "execute_result"
    }
   ],
   "source": [
    "Y[0]"
   ]
  },
  {
   "cell_type": "code",
   "execution_count": 21,
   "id": "d587b919",
   "metadata": {},
   "outputs": [],
   "source": [
    "from sklearn.model_selection import train_test_split\n",
    "# Split the data into training and testing sets\n",
    "X_train, X_test, Y_train, Y_test = train_test_split(X, Y, test_size=0.3, random_state=42)\n",
    "\n",
    "# test_size: proportion of the dataset to include in the test split (20% here)\n",
    "# random_state: seed used by the random number generator for reproducibility"
   ]
  },
  {
   "cell_type": "code",
   "execution_count": 24,
   "id": "bd0f43fa",
   "metadata": {},
   "outputs": [
    {
     "data": {
      "text/plain": [
       "RandomForestClassifier(random_state=42)"
      ]
     },
     "execution_count": 24,
     "metadata": {},
     "output_type": "execute_result"
    }
   ],
   "source": [
    "from sklearn.ensemble import RandomForestClassifier\n",
    "\n",
    "# Create and train the Random Forest model\n",
    "model = RandomForestClassifier(n_estimators=100, random_state=42)\n",
    "model.fit(X, Y)"
   ]
  },
  {
   "cell_type": "code",
   "execution_count": 25,
   "id": "9f515711",
   "metadata": {},
   "outputs": [
    {
     "name": "stdout",
     "output_type": "stream",
     "text": [
      "Accuracy: 1.00\n",
      "Classification Report:\n",
      "              precision    recall  f1-score   support\n",
      "\n",
      "      circle       1.00      1.00      1.00         8\n",
      "     ellipse       1.00      1.00      1.00         4\n",
      "   irregular       1.00      1.00      1.00         3\n",
      "   rectangle       1.00      1.00      1.00         5\n",
      " rounded_rec       1.00      1.00      1.00         3\n",
      "        star       1.00      1.00      1.00         4\n",
      "\n",
      "    accuracy                           1.00        27\n",
      "   macro avg       1.00      1.00      1.00        27\n",
      "weighted avg       1.00      1.00      1.00        27\n",
      "\n",
      "Confusion Matrix:\n",
      "[[8 0 0 0 0 0]\n",
      " [0 4 0 0 0 0]\n",
      " [0 0 3 0 0 0]\n",
      " [0 0 0 5 0 0]\n",
      " [0 0 0 0 3 0]\n",
      " [0 0 0 0 0 4]]\n"
     ]
    }
   ],
   "source": [
    "from sklearn.metrics import accuracy_score, classification_report, confusion_matrix\n",
    "\n",
    "# Make predictions\n",
    "Y_pred = model.predict(X_test)\n",
    "\n",
    "# Calculate accuracy\n",
    "accuracy = accuracy_score(Y_test, Y_pred)\n",
    "print(f'Accuracy: {accuracy:.2f}')\n",
    "\n",
    "# Print classification report\n",
    "print('Classification Report:')\n",
    "print(classification_report(Y_test, Y_pred))\n",
    "\n",
    "# Print confusion matrix\n",
    "print('Confusion Matrix:')\n",
    "print(confusion_matrix(Y_test, Y_pred))"
   ]
  },
  {
   "cell_type": "code",
   "execution_count": 43,
   "id": "06330caf",
   "metadata": {},
   "outputs": [
    {
     "data": {
      "text/plain": [
       "['model1.joblib']"
      ]
     },
     "execution_count": 43,
     "metadata": {},
     "output_type": "execute_result"
    }
   ],
   "source": [
    "from joblib import dump, load\n",
    "dump(model, 'model1.joblib')"
   ]
  },
  {
   "cell_type": "code",
   "execution_count": 26,
   "id": "8bba4282",
   "metadata": {},
   "outputs": [],
   "source": [
    "c1 = pd.read_csv(r\"D:\\Om Saran\\ML\\adobe\\dataset\\closed\\rectangle\\r8.csv\")"
   ]
  },
  {
   "cell_type": "code",
   "execution_count": null,
   "id": "1d981a82",
   "metadata": {},
   "outputs": [],
   "source": []
  },
  {
   "cell_type": "code",
   "execution_count": 27,
   "id": "c2c665dc",
   "metadata": {},
   "outputs": [
    {
     "data": {
      "text/html": [
       "<div>\n",
       "<style scoped>\n",
       "    .dataframe tbody tr th:only-of-type {\n",
       "        vertical-align: middle;\n",
       "    }\n",
       "\n",
       "    .dataframe tbody tr th {\n",
       "        vertical-align: top;\n",
       "    }\n",
       "\n",
       "    .dataframe thead th {\n",
       "        text-align: right;\n",
       "    }\n",
       "</style>\n",
       "<table border=\"1\" class=\"dataframe\">\n",
       "  <thead>\n",
       "    <tr style=\"text-align: right;\">\n",
       "      <th></th>\n",
       "      <th>x</th>\n",
       "      <th>y</th>\n",
       "    </tr>\n",
       "  </thead>\n",
       "  <tbody>\n",
       "    <tr>\n",
       "      <th>0</th>\n",
       "      <td>495.505798</td>\n",
       "      <td>423.644806</td>\n",
       "    </tr>\n",
       "    <tr>\n",
       "      <th>1</th>\n",
       "      <td>493.332916</td>\n",
       "      <td>423.708527</td>\n",
       "    </tr>\n",
       "    <tr>\n",
       "      <th>2</th>\n",
       "      <td>491.159821</td>\n",
       "      <td>423.764099</td>\n",
       "    </tr>\n",
       "    <tr>\n",
       "      <th>3</th>\n",
       "      <td>488.986511</td>\n",
       "      <td>423.811798</td>\n",
       "    </tr>\n",
       "    <tr>\n",
       "      <th>4</th>\n",
       "      <td>486.813049</td>\n",
       "      <td>423.850952</td>\n",
       "    </tr>\n",
       "    <tr>\n",
       "      <th>...</th>\n",
       "      <td>...</td>\n",
       "      <td>...</td>\n",
       "    </tr>\n",
       "    <tr>\n",
       "      <th>395</th>\n",
       "      <td>506.168274</td>\n",
       "      <td>425.642273</td>\n",
       "    </tr>\n",
       "    <tr>\n",
       "      <th>396</th>\n",
       "      <td>504.011444</td>\n",
       "      <td>425.370972</td>\n",
       "    </tr>\n",
       "    <tr>\n",
       "      <th>397</th>\n",
       "      <td>501.859436</td>\n",
       "      <td>425.064148</td>\n",
       "    </tr>\n",
       "    <tr>\n",
       "      <th>398</th>\n",
       "      <td>499.715363</td>\n",
       "      <td>424.706543</td>\n",
       "    </tr>\n",
       "    <tr>\n",
       "      <th>399</th>\n",
       "      <td>497.586823</td>\n",
       "      <td>424.266418</td>\n",
       "    </tr>\n",
       "  </tbody>\n",
       "</table>\n",
       "<p>400 rows × 2 columns</p>\n",
       "</div>"
      ],
      "text/plain": [
       "              x           y\n",
       "0    495.505798  423.644806\n",
       "1    493.332916  423.708527\n",
       "2    491.159821  423.764099\n",
       "3    488.986511  423.811798\n",
       "4    486.813049  423.850952\n",
       "..          ...         ...\n",
       "395  506.168274  425.642273\n",
       "396  504.011444  425.370972\n",
       "397  501.859436  425.064148\n",
       "398  499.715363  424.706543\n",
       "399  497.586823  424.266418\n",
       "\n",
       "[400 rows x 2 columns]"
      ]
     },
     "execution_count": 27,
     "metadata": {},
     "output_type": "execute_result"
    }
   ],
   "source": [
    "c1"
   ]
  },
  {
   "cell_type": "code",
   "execution_count": 28,
   "id": "af241043",
   "metadata": {},
   "outputs": [
    {
     "data": {
      "image/png": "[encoded data removed]",
      "text/plain": [
       "<Figure size 432x288 with 1 Axes>"
      ]
     },
     "metadata": {
      "needs_background": "light"
     },
     "output_type": "display_data"
    }
   ],
   "source": [
    "x_coords = c1['x']\n",
    "y_coords = c1['y']\n",
    "\n",
    "# Plot the curve\n",
    "plt.plot(x_coords, y_coords, linewidth = 1)  # Use marker='o' to show points\n",
    "plt.title('Curve Plot')\n",
    "plt.xlabel('X-axis')\n",
    "plt.ylabel('Y-axis')\n",
    "plt.gca().set_aspect('equal')\n",
    "plt.grid(True)  # Optional: Add grid for better visualization\n",
    "plt.show()"
   ]
  },
  {
   "cell_type": "code",
   "execution_count": 29,
   "id": "40dd39b6",
   "metadata": {},
   "outputs": [],
   "source": [
    "fv = extract_features(c1)"
   ]
  },
  {
   "cell_type": "code",
   "execution_count": 134,
   "id": "386d456d",
   "metadata": {},
   "outputs": [
    {
     "data": {
      "text/plain": [
       "(1000, 2)"
      ]
     },
     "execution_count": 134,
     "metadata": {},
     "output_type": "execute_result"
    }
   ],
   "source": [
    "fv.shape"
   ]
  },
  {
   "cell_type": "code",
   "execution_count": 135,
   "id": "193c075f",
   "metadata": {},
   "outputs": [
    {
     "data": {
      "text/plain": [
       "(1, 2000)"
      ]
     },
     "execution_count": 135,
     "metadata": {},
     "output_type": "execute_result"
    }
   ],
   "source": [
    "fv = fv.reshape(1, -1)\n",
    "fv.shape"
   ]
  },
  {
   "cell_type": "code",
   "execution_count": 136,
   "id": "d9dbff35",
   "metadata": {},
   "outputs": [
    {
     "data": {
      "text/plain": [
       "array(['rectangle'], dtype='<U11')"
      ]
     },
     "execution_count": 136,
     "metadata": {},
     "output_type": "execute_result"
    }
   ],
   "source": [
    "model.predict(fv)"
   ]
  },
  {
   "cell_type": "code",
   "execution_count": 137,
   "id": "f068d93a",
   "metadata": {},
   "outputs": [
    {
     "data": {
      "text/plain": [
       "numpy.ndarray"
      ]
     },
     "execution_count": 137,
     "metadata": {},
     "output_type": "execute_result"
    }
   ],
   "source": [
    "dist = distances_to_centroid(c1)\n",
    "type(dist)"
   ]
  },
  {
   "cell_type": "code",
   "execution_count": 60,
   "id": "1de918e6",
   "metadata": {},
   "outputs": [],
   "source": [
    "import numpy as np\n",
    "\n",
    "def find_corners(points, angle_threshold=0.5, distance=5):\n",
    "    def safe_arccos(x):\n",
    "        return np.arccos(np.clip(x, -1.0, 1.0))\n",
    "    \n",
    "    def calculate_curvature(p1, p2, p3):\n",
    "        v1 = np.array(p2) - np.array(p1)\n",
    "        v2 = np.array(p3) - np.array(p2)\n",
    "        dot_product = np.dot(v1, v2)\n",
    "        norm_v1 = np.linalg.norm(v1)\n",
    "        norm_v2 = np.linalg.norm(v2)\n",
    "        if norm_v1 == 0 or norm_v2 == 0:\n",
    "            return 0\n",
    "        angle = safe_arccos(dot_product / (norm_v1 * norm_v2))\n",
    "        return angle\n",
    "    \n",
    "    if not isinstance(points, np.ndarray):\n",
    "        # Convert to NumPy array if it's not already\n",
    "        points = points.to_numpy()\n",
    "    \n",
    "    num_points = len(points)\n",
    "    corners = []\n",
    "    marked_indices = set()\n",
    "    \n",
    "    i = 0\n",
    "    loop_count = 0  # Counter to prevent infinite loop\n",
    "    \n",
    "    while loop_count < num_points:\n",
    "        if i in marked_indices:\n",
    "            i = (i + 1) % num_points\n",
    "            loop_count += 1\n",
    "            continue\n",
    "        \n",
    "        # Determine indices for curvature calculation with cyclic behavior\n",
    "        p1 = points[i]\n",
    "        p2 = points[(i + distance // 2) % num_points]\n",
    "        p3 = points[(i + distance) % num_points]\n",
    "        \n",
    "        curvature = calculate_curvature(p1, p2, p3)\n",
    "        if curvature > angle_threshold:\n",
    "            corners.append(p2)\n",
    "            # Mark neighbors to skip, handle cyclic behavior\n",
    "            for j in range(-distance, distance + 1):\n",
    "                marked_index = (i + j) % num_points\n",
    "                marked_indices.add(marked_index)\n",
    "            i = (i + distance) % num_points  # Move ahead to next to next point\n",
    "        else:\n",
    "            i = (i + 1) % num_points\n",
    "        \n",
    "        loop_count += 1\n",
    "    \n",
    "    return np.array(corners)\n"
   ]
  },
  {
   "cell_type": "code",
   "execution_count": 61,
   "id": "9eb70b11",
   "metadata": {},
   "outputs": [
    {
     "name": "stdout",
     "output_type": "stream",
     "text": [
      "Detected corners: [[302.41921997 425.94772339]\n",
      " [290.50244141 274.53343201]\n",
      " [569.50390625 286.41070557]\n",
      " [588.18865967 424.72570801]]\n"
     ]
    }
   ],
   "source": [
    "\n",
    "# Find corners\n",
    "corners = find_corners(c1)\n",
    "print(\"Detected corners:\", corners)"
   ]
  },
  {
   "cell_type": "code",
   "execution_count": 34,
   "id": "e71077e5",
   "metadata": {},
   "outputs": [],
   "source": [
    "def calculate_dimensions(corners):\n",
    "    def calculate_distance(p1, p2):\n",
    "        return np.linalg.norm(np.array(p2) - np.array(p1))\n",
    "    \n",
    "    distances = []\n",
    "    for j in range(len(corners) - 1):\n",
    "        dist = calculate_distance(corners[j], corners[j + 1])\n",
    "        distances.append(dist)\n",
    "\n",
    "    # Alternate labeling as height and breadth\n",
    "    heights = distances[::2]\n",
    "    breadths = distances[1::2]\n",
    "\n",
    "    avg_height = np.mean(heights) if heights else 0\n",
    "    avg_breadth = np.mean(breadths) if breadths else 0\n",
    "\n",
    "    return avg_height, avg_breadth"
   ]
  },
  {
   "cell_type": "code",
   "execution_count": 38,
   "id": "58f8d34d",
   "metadata": {},
   "outputs": [],
   "source": [
    "from sklearn.decomposition import PCA\n",
    "\n",
    "def pca_bounding_box(corners):\n",
    "    pca = PCA(n_components=2)\n",
    "    pca.fit(corners)\n",
    "    mean = pca.mean_\n",
    "    components = pca.components_\n",
    "    \n",
    "    # Project points onto the principal components\n",
    "    projections = np.dot(corners - mean, components.T)\n",
    "    \n",
    "    min_proj = np.min(projections, axis=0)\n",
    "    max_proj = np.max(projections, axis=0)\n",
    "    \n",
    "    # Define rectangle corners\n",
    "    rectangle = np.array([\n",
    "        mean + min_proj[0] * components[0] + min_proj[1] * components[1],\n",
    "        mean + min_proj[0] * components[0] + max_proj[1] * components[1],\n",
    "        mean + max_proj[0] * components[0] + max_proj[1] * components[1],\n",
    "        mean + max_proj[0] * components[0] + min_proj[1] * components[1]\n",
    "    ])\n",
    "    \n",
    "    return rectangle"
   ]
  },
  {
   "cell_type": "code",
   "execution_count": 40,
   "id": "efd3f8ea",
   "metadata": {},
   "outputs": [
    {
     "data": {
      "text/plain": [
       "array([[290.84908802, 268.98894401],\n",
       "       [281.11913659, 424.61602212],\n",
       "       [586.99986989, 443.73997352],\n",
       "       [596.72982132, 288.11289541]])"
      ]
     },
     "execution_count": 40,
     "metadata": {},
     "output_type": "execute_result"
    }
   ],
   "source": [
    "reg_corners = pca_bounding_box(corners)\n",
    "reg_corners"
   ]
  },
  {
   "cell_type": "code",
   "execution_count": 138,
   "id": "488bf38d",
   "metadata": {},
   "outputs": [],
   "source": [
    "radius = np.mean(dist)"
   ]
  },
  {
   "cell_type": "code",
   "execution_count": 139,
   "id": "d3ef9428",
   "metadata": {},
   "outputs": [],
   "source": [
    "center = c1.mean(axis =0)"
   ]
  },
  {
   "cell_type": "code",
   "execution_count": null,
   "id": "63d38c2b",
   "metadata": {},
   "outputs": [],
   "source": [
    "def generate_circle_points(center, radius, num_points=100):\n",
    "    \"\"\"\n",
    "    Generate points on a circle in sequence at equal distances.\n",
    "    \n",
    "    Args:\n",
    "    - center (tuple): The (x, y) coordinates of the circle's center.\n",
    "    - radius (float): The radius of the circle.\n",
    "    - num_points (int): The number of points to generate. Default is 100.\n",
    "    \n",
    "    Returns:\n",
    "    - np.array: A numpy array of shape (num_points, 2) containing the (x, y) coordinates of the points.\n",
    "    \"\"\"\n",
    "    h, k = center\n",
    "    points = []\n",
    "\n",
    "    # Increment angle by 2π/num_points for equal spacing\n",
    "    delta_theta = 2 * np.pi / num_points\n",
    "\n",
    "    for i in range(num_points):\n",
    "        theta = i * delta_theta\n",
    "        x = h + radius * np.cos(theta)\n",
    "        y = k + radius * np.sin(theta)\n",
    "        points.append((x, y))\n",
    "\n",
    "    return np.array(points)"
   ]
  }
 ],
 "metadata": {
  "kernelspec": {
   "display_name": "Python 3",
   "language": "python",
   "name": "python3"
  },
  "language_info": {
   "codemirror_mode": {
    "name": "ipython",
    "version": 3
   },
   "file_extension": ".py",
   "mimetype": "text/x-python",
   "name": "python",
   "nbconvert_exporter": "python",
   "pygments_lexer": "ipython3",
   "version": "3.6.13"
  }
 },
 "nbformat": 4,
 "nbformat_minor": 5
}
